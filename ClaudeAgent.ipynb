{
  "nbformat": 4,
  "nbformat_minor": 0,
  "metadata": {
    "colab": {
      "provenance": [],
      "gpuType": "T4",
      "authorship_tag": "ABX9TyOHV0LuDaKCS3M5Gh/NIKxv",
      "include_colab_link": true
    },
    "kernelspec": {
      "name": "python3",
      "display_name": "Python 3"
    },
    "language_info": {
      "name": "python"
    },
    "accelerator": "GPU"
  },
  "cells": [
    {
      "cell_type": "markdown",
      "metadata": {
        "id": "view-in-github",
        "colab_type": "text"
      },
      "source": [
        "<a href=\"https://colab.research.google.com/github/chakrateja70/claude-Agent/blob/main/ClaudeAgent.ipynb\" target=\"_parent\"><img src=\"https://colab.research.google.com/assets/colab-badge.svg\" alt=\"Open In Colab\"/></a>"
      ]
    },
    {
      "cell_type": "code",
      "execution_count": null,
      "metadata": {
        "id": "C0OGEwmrmtX4"
      },
      "outputs": [],
      "source": [
        "https://chatgpt.com/c/67a198f6-fd28-800c-9a08-0e0dd41e3ac4"
      ]
    },
    {
      "cell_type": "markdown",
      "source": [],
      "metadata": {
        "id": "3ZtMV66Lmz-G"
      }
    },
    {
      "cell_type": "markdown",
      "source": [
        "# *Required Pacakges*"
      ],
      "metadata": {
        "id": "oHXTGY-_m4oy"
      }
    },
    {
      "cell_type": "code",
      "source": [
        "!pip install langchain langchain_anthropic pinecone pinecone-client anthropic voyageai langchain-voyageai python-dotenv pypdf langchain-community datasets\n"
      ],
      "metadata": {
        "id": "0CkiYOvMm2Q1",
        "collapsed": true
      },
      "execution_count": null,
      "outputs": []
    },
    {
      "cell_type": "code",
      "source": [
        "from google.colab import userdata\n",
        "userdata.get('PINECONE_API_KEY')\n",
        "userdata.get('ANTHROPIC_API_KEY')\n",
        "userdata.get('VOYAGE_API_KEY')"
      ],
      "metadata": {
        "id": "-QMROkntuwAM",
        "collapsed": true
      },
      "execution_count": null,
      "outputs": []
    },
    {
      "cell_type": "code",
      "source": [
        "from langchain_community.document_loaders import PyPDFLoader, Docx2txtLoader\n",
        "from langchain_text_splitters import RecursiveCharacterTextSplitter\n",
        "from typing import List\n",
        "from langchain_core.documents import Document\n",
        "import os\n",
        "\n",
        "def load_documents(folder_path: str) -> List[Document]:\n",
        "    pages = []\n",
        "    for filename in os.listdir(folder_path):\n",
        "        file_path = os.path.join(folder_path, filename)\n",
        "        if filename.endswith('.pdf'):\n",
        "            loader = PyPDFLoader(file_path)\n",
        "        elif filename.endswith('.docx'):\n",
        "            loader = Docx2txtLoader(file_path)\n",
        "        else:\n",
        "            print(f\"Unsupported file type: {filename}\")\n",
        "            continue\n",
        "        pages.extend(loader.load())\n",
        "    return pages\n",
        "\n",
        "folder_path = \"/content/\"\n",
        "pages = load_documents(folder_path)\n",
        "print(f\"Loaded {len(pages)} documents from the folder.\")\n"
      ],
      "metadata": {
        "id": "DXnMV0qZuR-w"
      },
      "execution_count": null,
      "outputs": []
    },
    {
      "cell_type": "code",
      "source": [
        "from langchain_text_splitters import RecursiveCharacterTextSplitter\n",
        "\n",
        "text_splitter = RecursiveCharacterTextSplitter(\n",
        "    # Set a really small chunk size, just to show.\n",
        "    chunk_size=3500,\n",
        "    chunk_overlap=100,\n",
        "    length_function=len,\n",
        "    is_separator_regex=False,\n",
        ")\n",
        "splits = text_splitter.split_documents(pages)\n",
        "print(f\"split the document into  {len(splits)} chunks.\")"
      ],
      "metadata": {
        "id": "gV8UrlqGRgT4"
      },
      "execution_count": null,
      "outputs": []
    },
    {
      "cell_type": "code",
      "source": [
        "from langchain_community.embeddings.sentence_transformer import SentenceTransformerEmbeddings\n",
        "\n",
        "embedding_function = SentenceTransformerEmbeddings(model_name=\"all-MiniLM-L6-v2\")\n",
        "document_embeddings = embedding_function.embed_documents([split.page_content for split in splits])\n",
        "\n",
        "document_embeddings"
      ],
      "metadata": {
        "collapsed": true,
        "id": "ZtDGRK58S67z"
      },
      "execution_count": null,
      "outputs": []
    },
    {
      "cell_type": "code",
      "source": [
        "!pip install langchain-pinecone\n"
      ],
      "metadata": {
        "collapsed": true,
        "id": "E_VHQhbU6amG"
      },
      "execution_count": null,
      "outputs": []
    },
    {
      "cell_type": "markdown",
      "source": [
        "If you get error regarding index, create index manually ( dimensions= 384)\n"
      ],
      "metadata": {
        "id": "Pi5Bnens-9yS"
      }
    },
    {
      "cell_type": "code",
      "source": [
        "\n",
        "from langchain.vectorstores import Pinecone\n",
        "\n",
        "import os\n",
        "\n",
        "index_name = \"quickstart\"\n",
        "\n",
        "pinecone_api_key = userdata.get('PINECONE_API_KEY')\n",
        "\n",
        "# pc.create_index(\n",
        "#     name=\"agent\",\n",
        "#     dimension=384, # Replace with your model dimensions\n",
        "#     metric=\"cosine\", # Replace with your model metric\n",
        "#     spec=ServerlessSpec(\n",
        "#         cloud=\"aws\",\n",
        "#         region=\"us-east-1\"\n",
        "#     )\n",
        "# )\n",
        "\n",
        "from langchain_community.embeddings import HuggingFaceEmbeddings\n",
        "embedding_function = HuggingFaceEmbeddings(model_name=\"all-MiniLM-L6-v2\")\n",
        "\n",
        "from langchain.vectorstores import Pinecone\n",
        "vectordb = Pinecone.from_documents(\n",
        "    documents=splits,\n",
        "    embedding=embedding_function,\n",
        "    index_name=index_name,\n",
        ")\n",
        "\n",
        "print(f\"Data successfully stored in Pinecone under index '{index_name}'!\")"
      ],
      "metadata": {
        "id": "dy5zQZPa6srI"
      },
      "execution_count": null,
      "outputs": []
    },
    {
      "cell_type": "code",
      "source": [
        "import os\n",
        "from langchain_anthropic import ChatAnthropic\n",
        "from langchain.chains import RetrievalQA\n",
        "from getpass import getpass\n",
        "\n",
        "anthropic_api_key = userdata.get('ANTHROPIC_API_KEY') or getpass(\"Anthropic API key: \")\n",
        "\n",
        "# chat completion llm\n",
        "llm = ChatAnthropic(\n",
        "    anthropic_api_key=anthropic_api_key,\n",
        "    model_name=\"claude-3-sonnet-20240229\",  # change \"opus\" -> \"sonnet\" for speed\n",
        "    temperature=0.0\n",
        ")\n",
        "\n",
        "retriever = vectordb.as_retriever()\n",
        "rag_chain = RetrievalQA.from_chain_type(\n",
        "    llm=llm,\n",
        "    retriever=retriever,\n",
        "    return_source_documents=True\n",
        ")\n",
        "\n",
        "print(\"RAG pipeline successfully set up!\")"
      ],
      "metadata": {
        "id": "33csIWARjdWq"
      },
      "execution_count": null,
      "outputs": []
    },
    {
      "cell_type": "code",
      "source": [
        "# User Query\n",
        "query = \"what is FY26?\"\n",
        "\n",
        "# Get Response from RAG System\n",
        "response = rag_chain.invoke({\"query\": query})\n",
        "\n",
        "# Check if response is empty\n",
        "if not response.get(\"result\"):\n",
        "    print(\"No relevant information found in the knowledge base.\")\n",
        "else:\n",
        "    print(\"Answer:\", response[\"result\"])\n"
      ],
      "metadata": {
        "id": "Eg2PpQfpfNNJ"
      },
      "execution_count": null,
      "outputs": []
    },
    {
      "cell_type": "code",
      "source": [],
      "metadata": {
        "id": "Nhq9LGQJkK6o"
      },
      "execution_count": null,
      "outputs": []
    }
  ]
}