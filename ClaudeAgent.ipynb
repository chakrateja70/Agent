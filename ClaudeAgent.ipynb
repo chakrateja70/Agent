{
  "nbformat": 4,
  "nbformat_minor": 0,
  "metadata": {
    "colab": {
      "provenance": [],
      "gpuType": "T4",
      "authorship_tag": "ABX9TyMxOiWW6rARGl7XtKTDWaoJ",
      "include_colab_link": true
    },
    "kernelspec": {
      "name": "python3",
      "display_name": "Python 3"
    },
    "language_info": {
      "name": "python"
    },
    "accelerator": "GPU"
  },
  "cells": [
    {
      "cell_type": "markdown",
      "metadata": {
        "id": "view-in-github",
        "colab_type": "text"
      },
      "source": [
        "<a href=\"https://colab.research.google.com/github/chakrateja70/claude-Agent/blob/main/ClaudeAgent.ipynb\" target=\"_parent\"><img src=\"https://colab.research.google.com/assets/colab-badge.svg\" alt=\"Open In Colab\"/></a>"
      ]
    },
    {
      "cell_type": "code",
      "execution_count": null,
      "metadata": {
        "id": "C0OGEwmrmtX4"
      },
      "outputs": [],
      "source": [
        "https://chatgpt.com/c/67a198f6-fd28-800c-9a08-0e0dd41e3ac4"
      ]
    },
    {
      "cell_type": "markdown",
      "source": [
        "# *Required Pacakges*"
      ],
      "metadata": {
        "id": "oHXTGY-_m4oy"
      }
    },
    {
      "cell_type": "code",
      "source": [
        "!pip install langchain langchain_anthropic pinecone pinecone-client anthropic voyageai langchain-voyageai python-dotenv pypdf langchain-community datasets\n"
      ],
      "metadata": {
        "id": "0CkiYOvMm2Q1",
        "collapsed": true,
        "colab": {
          "base_uri": "https://localhost:8080/"
        },
        "outputId": "d29ed96c-5d1d-4368-cbe6-81301e8ae514"
      },
      "execution_count": 2,
      "outputs": [
        {
          "output_type": "stream",
          "name": "stdout",
          "text": [
            "Requirement already satisfied: langchain in /usr/local/lib/python3.11/dist-packages (0.3.16)\n",
            "Requirement already satisfied: langchain_anthropic in /usr/local/lib/python3.11/dist-packages (0.3.6)\n",
            "Requirement already satisfied: pinecone in /usr/local/lib/python3.11/dist-packages (5.4.2)\n",
            "Requirement already satisfied: pinecone-client in /usr/local/lib/python3.11/dist-packages (4.1.2)\n",
            "Requirement already satisfied: anthropic in /usr/local/lib/python3.11/dist-packages (0.45.2)\n",
            "Requirement already satisfied: voyageai in /usr/local/lib/python3.11/dist-packages (0.3.2)\n",
            "Requirement already satisfied: langchain-voyageai in /usr/local/lib/python3.11/dist-packages (0.1.4)\n",
            "Requirement already satisfied: python-dotenv in /usr/local/lib/python3.11/dist-packages (1.0.1)\n",
            "Requirement already satisfied: pypdf in /usr/local/lib/python3.11/dist-packages (5.2.0)\n",
            "Requirement already satisfied: langchain-community in /usr/local/lib/python3.11/dist-packages (0.3.16)\n",
            "Requirement already satisfied: datasets in /usr/local/lib/python3.11/dist-packages (3.2.0)\n",
            "Requirement already satisfied: PyYAML>=5.3 in /usr/local/lib/python3.11/dist-packages (from langchain) (6.0.2)\n",
            "Requirement already satisfied: SQLAlchemy<3,>=1.4 in /usr/local/lib/python3.11/dist-packages (from langchain) (2.0.37)\n",
            "Requirement already satisfied: aiohttp<4.0.0,>=3.8.3 in /usr/local/lib/python3.11/dist-packages (from langchain) (3.10.11)\n",
            "Requirement already satisfied: langchain-core<0.4.0,>=0.3.32 in /usr/local/lib/python3.11/dist-packages (from langchain) (0.3.33)\n",
            "Requirement already satisfied: langchain-text-splitters<0.4.0,>=0.3.3 in /usr/local/lib/python3.11/dist-packages (from langchain) (0.3.5)\n",
            "Requirement already satisfied: langsmith<0.4,>=0.1.17 in /usr/local/lib/python3.11/dist-packages (from langchain) (0.3.2)\n",
            "Requirement already satisfied: numpy<2,>=1.22.4 in /usr/local/lib/python3.11/dist-packages (from langchain) (1.26.4)\n",
            "Requirement already satisfied: pydantic<3.0.0,>=2.7.4 in /usr/local/lib/python3.11/dist-packages (from langchain) (2.10.6)\n",
            "Requirement already satisfied: requests<3,>=2 in /usr/local/lib/python3.11/dist-packages (from langchain) (2.32.3)\n",
            "Requirement already satisfied: tenacity!=8.4.0,<10,>=8.1.0 in /usr/local/lib/python3.11/dist-packages (from langchain) (9.0.0)\n",
            "Requirement already satisfied: defusedxml<0.8.0,>=0.7.1 in /usr/local/lib/python3.11/dist-packages (from langchain_anthropic) (0.7.1)\n",
            "Requirement already satisfied: certifi>=2019.11.17 in /usr/local/lib/python3.11/dist-packages (from pinecone) (2024.12.14)\n",
            "Requirement already satisfied: pinecone-plugin-inference<4.0.0,>=2.0.0 in /usr/local/lib/python3.11/dist-packages (from pinecone) (3.1.0)\n",
            "Requirement already satisfied: pinecone-plugin-interface<0.0.8,>=0.0.7 in /usr/local/lib/python3.11/dist-packages (from pinecone) (0.0.7)\n",
            "Requirement already satisfied: python-dateutil>=2.5.3 in /usr/local/lib/python3.11/dist-packages (from pinecone) (2.8.2)\n",
            "Requirement already satisfied: tqdm>=4.64.1 in /usr/local/lib/python3.11/dist-packages (from pinecone) (4.67.1)\n",
            "Requirement already satisfied: typing-extensions>=3.7.4 in /usr/local/lib/python3.11/dist-packages (from pinecone) (4.12.2)\n",
            "Requirement already satisfied: urllib3>=1.26.0 in /usr/local/lib/python3.11/dist-packages (from pinecone) (2.3.0)\n",
            "Requirement already satisfied: anyio<5,>=3.5.0 in /usr/local/lib/python3.11/dist-packages (from anthropic) (3.7.1)\n",
            "Requirement already satisfied: distro<2,>=1.7.0 in /usr/local/lib/python3.11/dist-packages (from anthropic) (1.9.0)\n",
            "Requirement already satisfied: httpx<1,>=0.23.0 in /usr/local/lib/python3.11/dist-packages (from anthropic) (0.28.1)\n",
            "Requirement already satisfied: jiter<1,>=0.4.0 in /usr/local/lib/python3.11/dist-packages (from anthropic) (0.8.2)\n",
            "Requirement already satisfied: sniffio in /usr/local/lib/python3.11/dist-packages (from anthropic) (1.3.1)\n",
            "Requirement already satisfied: aiolimiter in /usr/local/lib/python3.11/dist-packages (from voyageai) (1.2.1)\n",
            "Requirement already satisfied: pillow in /usr/local/lib/python3.11/dist-packages (from voyageai) (11.1.0)\n",
            "Requirement already satisfied: tokenizers>=0.14.0 in /usr/local/lib/python3.11/dist-packages (from voyageai) (0.21.0)\n",
            "Requirement already satisfied: dataclasses-json<0.7,>=0.5.7 in /usr/local/lib/python3.11/dist-packages (from langchain-community) (0.6.7)\n",
            "Requirement already satisfied: httpx-sse<0.5.0,>=0.4.0 in /usr/local/lib/python3.11/dist-packages (from langchain-community) (0.4.0)\n",
            "Requirement already satisfied: pydantic-settings<3.0.0,>=2.4.0 in /usr/local/lib/python3.11/dist-packages (from langchain-community) (2.7.1)\n",
            "Requirement already satisfied: filelock in /usr/local/lib/python3.11/dist-packages (from datasets) (3.17.0)\n",
            "Requirement already satisfied: pyarrow>=15.0.0 in /usr/local/lib/python3.11/dist-packages (from datasets) (17.0.0)\n",
            "Requirement already satisfied: dill<0.3.9,>=0.3.0 in /usr/local/lib/python3.11/dist-packages (from datasets) (0.3.8)\n",
            "Requirement already satisfied: pandas in /usr/local/lib/python3.11/dist-packages (from datasets) (2.2.2)\n",
            "Requirement already satisfied: xxhash in /usr/local/lib/python3.11/dist-packages (from datasets) (3.5.0)\n",
            "Requirement already satisfied: multiprocess<0.70.17 in /usr/local/lib/python3.11/dist-packages (from datasets) (0.70.16)\n",
            "Requirement already satisfied: fsspec<=2024.9.0,>=2023.1.0 in /usr/local/lib/python3.11/dist-packages (from fsspec[http]<=2024.9.0,>=2023.1.0->datasets) (2024.9.0)\n",
            "Requirement already satisfied: huggingface-hub>=0.23.0 in /usr/local/lib/python3.11/dist-packages (from datasets) (0.27.1)\n",
            "Requirement already satisfied: packaging in /usr/local/lib/python3.11/dist-packages (from datasets) (24.2)\n",
            "Requirement already satisfied: aiohappyeyeballs>=2.3.0 in /usr/local/lib/python3.11/dist-packages (from aiohttp<4.0.0,>=3.8.3->langchain) (2.4.4)\n",
            "Requirement already satisfied: aiosignal>=1.1.2 in /usr/local/lib/python3.11/dist-packages (from aiohttp<4.0.0,>=3.8.3->langchain) (1.3.2)\n",
            "Requirement already satisfied: attrs>=17.3.0 in /usr/local/lib/python3.11/dist-packages (from aiohttp<4.0.0,>=3.8.3->langchain) (25.1.0)\n",
            "Requirement already satisfied: frozenlist>=1.1.1 in /usr/local/lib/python3.11/dist-packages (from aiohttp<4.0.0,>=3.8.3->langchain) (1.5.0)\n",
            "Requirement already satisfied: multidict<7.0,>=4.5 in /usr/local/lib/python3.11/dist-packages (from aiohttp<4.0.0,>=3.8.3->langchain) (6.1.0)\n",
            "Requirement already satisfied: yarl<2.0,>=1.12.0 in /usr/local/lib/python3.11/dist-packages (from aiohttp<4.0.0,>=3.8.3->langchain) (1.18.3)\n",
            "Requirement already satisfied: idna>=2.8 in /usr/local/lib/python3.11/dist-packages (from anyio<5,>=3.5.0->anthropic) (3.10)\n",
            "Requirement already satisfied: marshmallow<4.0.0,>=3.18.0 in /usr/local/lib/python3.11/dist-packages (from dataclasses-json<0.7,>=0.5.7->langchain-community) (3.26.1)\n",
            "Requirement already satisfied: typing-inspect<1,>=0.4.0 in /usr/local/lib/python3.11/dist-packages (from dataclasses-json<0.7,>=0.5.7->langchain-community) (0.9.0)\n",
            "Requirement already satisfied: httpcore==1.* in /usr/local/lib/python3.11/dist-packages (from httpx<1,>=0.23.0->anthropic) (1.0.7)\n",
            "Requirement already satisfied: h11<0.15,>=0.13 in /usr/local/lib/python3.11/dist-packages (from httpcore==1.*->httpx<1,>=0.23.0->anthropic) (0.14.0)\n",
            "Requirement already satisfied: jsonpatch<2.0,>=1.33 in /usr/local/lib/python3.11/dist-packages (from langchain-core<0.4.0,>=0.3.32->langchain) (1.33)\n",
            "Requirement already satisfied: orjson<4.0.0,>=3.9.14 in /usr/local/lib/python3.11/dist-packages (from langsmith<0.4,>=0.1.17->langchain) (3.10.15)\n",
            "Requirement already satisfied: requests-toolbelt<2.0.0,>=1.0.0 in /usr/local/lib/python3.11/dist-packages (from langsmith<0.4,>=0.1.17->langchain) (1.0.0)\n",
            "Requirement already satisfied: zstandard<0.24.0,>=0.23.0 in /usr/local/lib/python3.11/dist-packages (from langsmith<0.4,>=0.1.17->langchain) (0.23.0)\n",
            "Requirement already satisfied: annotated-types>=0.6.0 in /usr/local/lib/python3.11/dist-packages (from pydantic<3.0.0,>=2.7.4->langchain) (0.7.0)\n",
            "Requirement already satisfied: pydantic-core==2.27.2 in /usr/local/lib/python3.11/dist-packages (from pydantic<3.0.0,>=2.7.4->langchain) (2.27.2)\n",
            "Requirement already satisfied: six>=1.5 in /usr/local/lib/python3.11/dist-packages (from python-dateutil>=2.5.3->pinecone) (1.17.0)\n",
            "Requirement already satisfied: charset-normalizer<4,>=2 in /usr/local/lib/python3.11/dist-packages (from requests<3,>=2->langchain) (3.4.1)\n",
            "Requirement already satisfied: greenlet!=0.4.17 in /usr/local/lib/python3.11/dist-packages (from SQLAlchemy<3,>=1.4->langchain) (3.1.1)\n",
            "Requirement already satisfied: pytz>=2020.1 in /usr/local/lib/python3.11/dist-packages (from pandas->datasets) (2024.2)\n",
            "Requirement already satisfied: tzdata>=2022.7 in /usr/local/lib/python3.11/dist-packages (from pandas->datasets) (2025.1)\n",
            "Requirement already satisfied: jsonpointer>=1.9 in /usr/local/lib/python3.11/dist-packages (from jsonpatch<2.0,>=1.33->langchain-core<0.4.0,>=0.3.32->langchain) (3.0.0)\n",
            "Requirement already satisfied: mypy-extensions>=0.3.0 in /usr/local/lib/python3.11/dist-packages (from typing-inspect<1,>=0.4.0->dataclasses-json<0.7,>=0.5.7->langchain-community) (1.0.0)\n",
            "Requirement already satisfied: propcache>=0.2.0 in /usr/local/lib/python3.11/dist-packages (from yarl<2.0,>=1.12.0->aiohttp<4.0.0,>=3.8.3->langchain) (0.2.1)\n"
          ]
        }
      ]
    },
    {
      "cell_type": "code",
      "source": [
        "from google.colab import userdata\n",
        "userdata.get('PINECONE_API_KEY')\n",
        "userdata.get('ANTHROPIC_API_KEY')\n",
        "userdata.get('VOYAGE_API_KEY')"
      ],
      "metadata": {
        "id": "-QMROkntuwAM",
        "collapsed": true,
        "colab": {
          "base_uri": "https://localhost:8080/",
          "height": 36
        },
        "outputId": "cadfeb84-8505-4b0d-a0be-973ebc9f5c1d"
      },
      "execution_count": 3,
      "outputs": [
        {
          "output_type": "execute_result",
          "data": {
            "text/plain": [
              "'pa-vesi5MxnW621-kuaB7Xksv43lXs5uLqR3PqHcS4jzFu'"
            ],
            "application/vnd.google.colaboratory.intrinsic+json": {
              "type": "string"
            }
          },
          "metadata": {},
          "execution_count": 3
        }
      ]
    },
    {
      "cell_type": "code",
      "source": [
        "userdata.get('PINECONE_API_KEY')"
      ],
      "metadata": {
        "colab": {
          "base_uri": "https://localhost:8080/",
          "height": 36
        },
        "id": "WBk47Mol7Z-i",
        "outputId": "35adcff7-c516-42a3-b103-d78cce9c46c7"
      },
      "execution_count": 4,
      "outputs": [
        {
          "output_type": "execute_result",
          "data": {
            "text/plain": [
              "'pcsk_p2VfD_A5AkS6nRPdgmZwVTgrrfFg1jvtUjdLyA9k783czRBSE1R6aRdBC2ShS9P39iSKh'"
            ],
            "application/vnd.google.colaboratory.intrinsic+json": {
              "type": "string"
            }
          },
          "metadata": {},
          "execution_count": 4
        }
      ]
    },
    {
      "cell_type": "code",
      "source": [
        "from langchain_community.document_loaders import PyPDFLoader, Docx2txtLoader\n",
        "from langchain_text_splitters import RecursiveCharacterTextSplitter\n",
        "from typing import List\n",
        "from langchain_core.documents import Document\n",
        "import os\n",
        "\n",
        "def load_documents(folder_path: str) -> List[Document]:\n",
        "    pages = []\n",
        "    for filename in os.listdir(folder_path):\n",
        "        file_path = os.path.join(folder_path, filename)\n",
        "        if filename.endswith('.pdf'):\n",
        "            loader = PyPDFLoader(file_path)\n",
        "        elif filename.endswith('.docx'):\n",
        "            loader = Docx2txtLoader(file_path)\n",
        "        else:\n",
        "            print(f\"Unsupported file type: {filename}\")\n",
        "            continue\n",
        "        pages.extend(loader.load())\n",
        "    return pages\n",
        "\n",
        "folder_path = \"/content/\"\n",
        "pages = load_documents(folder_path)\n",
        "print(f\"Loaded {len(pages)} documents from the folder.\")\n"
      ],
      "metadata": {
        "id": "DXnMV0qZuR-w",
        "colab": {
          "base_uri": "https://localhost:8080/"
        },
        "outputId": "ff448046-3818-4e30-9fc5-329725f4fc8d"
      },
      "execution_count": 5,
      "outputs": [
        {
          "output_type": "stream",
          "name": "stdout",
          "text": [
            "Unsupported file type: .config\n",
            "Unsupported file type: sample_data\n",
            "Loaded 44 documents from the folder.\n"
          ]
        }
      ]
    },
    {
      "cell_type": "code",
      "source": [
        "from langchain_text_splitters import RecursiveCharacterTextSplitter\n",
        "\n",
        "text_splitter = RecursiveCharacterTextSplitter(\n",
        "    # Set a really small chunk size, just to show.\n",
        "    chunk_size=3500,\n",
        "    chunk_overlap=100,\n",
        "    length_function=len,\n",
        "    is_separator_regex=False,\n",
        ")\n",
        "splits = text_splitter.split_documents(pages)\n",
        "print(f\"split the document into  {len(splits)} chunks.\")"
      ],
      "metadata": {
        "id": "gV8UrlqGRgT4",
        "colab": {
          "base_uri": "https://localhost:8080/"
        },
        "outputId": "35707ed7-f4ac-488c-a4bd-289e6b2360d8"
      },
      "execution_count": 6,
      "outputs": [
        {
          "output_type": "stream",
          "name": "stdout",
          "text": [
            "split the document into  47 chunks.\n"
          ]
        }
      ]
    },
    {
      "cell_type": "code",
      "source": [
        "from langchain_community.embeddings.sentence_transformer import SentenceTransformerEmbeddings\n",
        "\n",
        "embedding_function = SentenceTransformerEmbeddings(model_name=\"all-MiniLM-L6-v2\")\n",
        "document_embeddings = embedding_function.embed_documents([split.page_content for split in splits])\n",
        "\n",
        "document_embeddings"
      ],
      "metadata": {
        "collapsed": true,
        "id": "ZtDGRK58S67z"
      },
      "execution_count": null,
      "outputs": []
    },
    {
      "cell_type": "markdown",
      "source": [
        "If you get error regarding index, create index manually ( dimensions= 384)\n"
      ],
      "metadata": {
        "id": "Pi5Bnens-9yS"
      }
    },
    {
      "cell_type": "code",
      "source": [
        "pip install langchain-pinecone"
      ],
      "metadata": {
        "id": "KVnF_IO_714O"
      },
      "execution_count": null,
      "outputs": []
    },
    {
      "cell_type": "code",
      "source": [
        "from langchain.vectorstores import Pinecone\n",
        "\n",
        "import os\n",
        "\n",
        "index_name = \"quickstart\"\n",
        "\n",
        "pinecone_api_key = \"pcsk_p2VfD_A5AkS6nRPdgmZwVTgrrfFg1jvtUjdLyA9k783czRBSE1R6aRdBC2ShS9P39iSKh\"\n",
        "\n",
        "os.environ[\"PINECONE_API_KEY\"] = pinecone_api_key\n",
        "\n",
        "from langchain_community.embeddings import HuggingFaceEmbeddings\n",
        "embedding_function = HuggingFaceEmbeddings(model_name=\"all-MiniLM-L6-v2\")\n",
        "\n",
        "from langchain.vectorstores import Pinecone\n",
        "vectordb = Pinecone.from_documents(\n",
        "    documents=splits,\n",
        "    embedding=embedding_function,\n",
        "    index_name=index_name,\n",
        ")\n",
        "\n",
        "print(f\"Data successfully stored in Pinecone under index '{index_name}'!\")"
      ],
      "metadata": {
        "colab": {
          "base_uri": "https://localhost:8080/"
        },
        "id": "bkanOVHfDMZd",
        "outputId": "f208754c-4b07-4e94-8234-eb3776b5e7dc"
      },
      "execution_count": 13,
      "outputs": [
        {
          "output_type": "stream",
          "name": "stdout",
          "text": [
            "Data successfully stored in Pinecone under index 'quickstart'!\n"
          ]
        }
      ]
    },
    {
      "cell_type": "code",
      "source": [
        "import os\n",
        "from langchain.vectorstores import Pinecone\n",
        "from langchain_community.embeddings import HuggingFaceEmbeddings\n",
        "from pinecone import Pinecone, ServerlessSpec\n",
        "\n",
        "# Pinecone API key\n",
        "pinecone_api_key = \"pcsk_p2VfD_A5AkS6nRPdgmZwVTgrrfFg1jvtUjdLyA9k783czRBSE1R6aRdBC2ShS9P39iSKh\"\n",
        "os.environ[\"PINECONE_API_KEY\"] = pinecone_api_key\n",
        "\n",
        "\n",
        "# Initialize Pinecone client\n",
        "pc = Pinecone(api_key=pinecone_api_key)\n",
        "\n",
        "# Define the index name\n",
        "index_name = \"agentindex\"\n",
        "\n",
        "# Check if the index exists\n",
        "if index_name not in pc.list_indexes().names():\n",
        "    print(f\"Index '{index_name}' does not exist. Creating a new index...\")\n",
        "    # Create a new index with the required dimensionality (e.g., 384 for all-MiniLM-L6-v2)\n",
        "    pc.create_index(\n",
        "        name=index_name,\n",
        "        dimension=384,  # Dimension for all-MiniLM-L6-v2 embeddings\n",
        "          # Default metric for similarity search\n",
        "        spec=ServerlessSpec(\n",
        "            cloud=\"aws\",  # Choose your cloud provider\n",
        "            region=\"us-east-1\"  # Choose your region\n",
        "        )\n",
        "    )\n",
        "    print(f\"Index '{index_name}' created successfully!\")\n",
        "else:\n",
        "    print(f\"Index '{index_name}' already exists.\")\n",
        "\n",
        "from langchain_community.embeddings import HuggingFaceEmbeddings\n",
        "embedding_function = HuggingFaceEmbeddings(model_name=\"all-MiniLM-L6-v2\")\n",
        "\n",
        "from langchain.vectorstores import Pinecone\n",
        "vectordb = Pinecone.from_documents(\n",
        "    documents=splits,\n",
        "    embedding=embedding_function,\n",
        "    index_name=index_name,\n",
        ")\n",
        "\n",
        "print(f\"Data successfully stored in Pinecone under index '{index_name}'!\")"
      ],
      "metadata": {
        "colab": {
          "base_uri": "https://localhost:8080/"
        },
        "id": "spaDdjIqMJe8",
        "outputId": "1dcf258f-7b9c-4da6-84d7-2529c74a9f36"
      },
      "execution_count": 46,
      "outputs": [
        {
          "output_type": "stream",
          "name": "stdout",
          "text": [
            "Index 'agentindex' already exists.\n",
            "Data successfully stored in Pinecone under index 'agentindex'!\n"
          ]
        }
      ]
    },
    {
      "cell_type": "code",
      "source": [
        "\n",
        "# from langchain.vectorstores import Pinecone\n",
        "\n",
        "\n",
        "\n",
        "# index_name = \"quickstart\"\n",
        "\n",
        "# pinecone_api_key = userdata.get('PINECONE_API_KEY')\n",
        "\n",
        "# # pc.create_index(\n",
        "# #     name=\"agent\",\n",
        "# #     dimension=384, # Replace with your model dimensions\n",
        "# #     metric=\"cosine\", # Replace with your model metric\n",
        "# #     spec=ServerlessSpec(\n",
        "# #         cloud=\"aws\",\n",
        "# #         region=\"us-east-1\"\n",
        "# #     )\n",
        "# # )\n",
        "\n",
        "# from langchain_community.embeddings import HuggingFaceEmbeddings\n",
        "# embedding_function = HuggingFaceEmbeddings(model_name=\"all-MiniLM-L6-v2\")\n",
        "\n",
        "# from langchain.vectorstores import Pinecone\n",
        "# vectordb = Pinecone.from_documents(\n",
        "#     documents=splits,\n",
        "#     embedding=embedding_function,\n",
        "#     index_name=index_name,\n",
        "# )\n",
        "\n",
        "# print(f\"Data successfully stored in Pinecone under index '{index_name}'!\")"
      ],
      "metadata": {
        "id": "dy5zQZPa6srI",
        "colab": {
          "base_uri": "https://localhost:8080/"
        },
        "outputId": "3c0d1d84-e360-4e46-c246-37155dd28ee5"
      },
      "execution_count": 14,
      "outputs": [
        {
          "output_type": "stream",
          "name": "stdout",
          "text": [
            "Data successfully stored in Pinecone under index 'quickstart'!\n"
          ]
        }
      ]
    },
    {
      "cell_type": "code",
      "source": [
        "# import os\n",
        "# from langchain_anthropic import ChatAnthropic\n",
        "# from langchain.chains import RetrievalQA\n",
        "# from getpass import getpass\n",
        "\n",
        "# anthropic_api_key = userdata.get('ANTHROPIC_API_KEY') or getpass(\"Anthropic API key: \")\n",
        "\n",
        "# llm = ChatAnthropic(\n",
        "#     anthropic_api_key=anthropic_api_key,\n",
        "#     model_name=\"claude-3-sonnet-20240229\",\n",
        "#     temperature=0.0\n",
        "# )\n",
        "\n",
        "# retriever = vectordb.as_retriever()\n",
        "# rag_chain = RetrievalQA.from_chain_type(\n",
        "#     llm=llm,\n",
        "#     retriever=retriever,\n",
        "#     return_source_documents=True\n",
        "# )\n",
        "\n",
        "# print(\"RAG pipeline successfully set up!\")"
      ],
      "metadata": {
        "id": "33csIWARjdWq",
        "colab": {
          "base_uri": "https://localhost:8080/"
        },
        "outputId": "1b25fe51-9086-419e-83b3-d9acb9632641"
      },
      "execution_count": 24,
      "outputs": [
        {
          "output_type": "stream",
          "name": "stdout",
          "text": [
            "RAG pipeline successfully set up!\n"
          ]
        }
      ]
    },
    {
      "cell_type": "code",
      "source": [
        "from transformers import pipeline\n",
        "from langchain.chains import RetrievalQA\n",
        "from langchain.llms import HuggingFacePipeline\n",
        "\n",
        "# Load a free LLM from Hugging Face\n",
        "model_name = \"google/flan-t5-large\"  # You can replace this with any other model\n",
        "llm_pipeline = pipeline(\"text2text-generation\", model=model_name, tokenizer=model_name)\n",
        "\n",
        "# Wrap the pipeline in LangChain's HuggingFacePipeline\n",
        "llm = HuggingFacePipeline(pipeline=llm_pipeline)\n",
        "\n",
        "# Set up the retriever (assuming vectordb is already defined)\n",
        "retriever = vectordb.as_retriever()\n",
        "\n",
        "# Create the RetrievalQA chain\n",
        "rag_chain = RetrievalQA.from_chain_type(\n",
        "    llm=llm,\n",
        "    retriever=retriever,\n",
        "    return_source_documents=True\n",
        ")\n",
        "\n",
        "print(\"RAG pipeline successfully set up with Hugging Face model!\")"
      ],
      "metadata": {
        "id": "ohdchEqMFy0H"
      },
      "execution_count": null,
      "outputs": []
    },
    {
      "cell_type": "code",
      "source": [
        "# User Query\n",
        "query = \"which stock is best to buy for tommorow santoor or dettol?\"\n",
        "# Get Response from RAG System\n",
        "response = rag_chain.invoke({\"query\": query})\n",
        "\n",
        "# Check if response contains a valid answer\n",
        "answer = response.get(\"result\", \"No relevant information found in the knowledge base.\")\n",
        "\n",
        "# Print the answer\n",
        "print(\"Answer:\", answer)\n"
      ],
      "metadata": {
        "colab": {
          "base_uri": "https://localhost:8080/"
        },
        "id": "tY8MUf1mB2rO",
        "outputId": "4f60e908-c41a-4f56-b625-a7a1f3dc420c"
      },
      "execution_count": 74,
      "outputs": [
        {
          "output_type": "stream",
          "name": "stdout",
          "text": [
            "Answer: Santoor\n"
          ]
        }
      ]
    },
    {
      "cell_type": "code",
      "source": [],
      "metadata": {
        "id": "0GbUMlan-XdI"
      },
      "execution_count": 56,
      "outputs": []
    }
  ]
}