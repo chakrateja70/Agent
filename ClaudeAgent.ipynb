{
  "nbformat": 4,
  "nbformat_minor": 0,
  "metadata": {
    "colab": {
      "provenance": [],
      "gpuType": "T4",
      "authorship_tag": "ABX9TyOs1Ohhur5no81Dzt5HZznx",
      "include_colab_link": true
    },
    "kernelspec": {
      "name": "python3",
      "display_name": "Python 3"
    },
    "language_info": {
      "name": "python"
    },
    "accelerator": "GPU"
  },
  "cells": [
    {
      "cell_type": "markdown",
      "metadata": {
        "id": "view-in-github",
        "colab_type": "text"
      },
      "source": [
        "<a href=\"https://colab.research.google.com/github/chakrateja70/claude-Agent/blob/main/ClaudeAgent.ipynb\" target=\"_parent\"><img src=\"https://colab.research.google.com/assets/colab-badge.svg\" alt=\"Open In Colab\"/></a>"
      ]
    },
    {
      "cell_type": "code",
      "execution_count": null,
      "metadata": {
        "id": "C0OGEwmrmtX4"
      },
      "outputs": [],
      "source": [
        "https://chatgpt.com/c/67a198f6-fd28-800c-9a08-0e0dd41e3ac4"
      ]
    },
    {
      "cell_type": "markdown",
      "source": [
        "# *Required Pacakges*"
      ],
      "metadata": {
        "id": "oHXTGY-_m4oy"
      }
    },
    {
      "cell_type": "code",
      "source": [
        "!pip install langchain langchain_anthropic pinecone pinecone-client anthropic voyageai langchain-voyageai python-dotenv pypdf langchain-community datasets\n"
      ],
      "metadata": {
        "id": "0CkiYOvMm2Q1",
        "collapsed": true
      },
      "execution_count": null,
      "outputs": []
    },
    {
      "cell_type": "code",
      "source": [
        "from google.colab import userdata\n",
        "userdata.get('PINECONE_API_KEY')\n",
        "userdata.get('ANTHROPIC_API_KEY')\n",
        "userdata.get('VOYAGE_API_KEY')"
      ],
      "metadata": {
        "id": "-QMROkntuwAM",
        "collapsed": true
      },
      "execution_count": null,
      "outputs": []
    },
    {
      "cell_type": "code",
      "source": [
        "from langchain_community.document_loaders import PyPDFLoader, Docx2txtLoader\n",
        "from langchain_text_splitters import RecursiveCharacterTextSplitter\n",
        "from typing import List\n",
        "from langchain_core.documents import Document\n",
        "import os\n",
        "\n",
        "def load_documents(folder_path: str) -> List[Document]:\n",
        "    pages = []\n",
        "    for filename in os.listdir(folder_path):\n",
        "        file_path = os.path.join(folder_path, filename)\n",
        "        if filename.endswith('.pdf'):\n",
        "            loader = PyPDFLoader(file_path)\n",
        "        elif filename.endswith('.docx'):\n",
        "            loader = Docx2txtLoader(file_path)\n",
        "        else:\n",
        "            print(f\"Unsupported file type: {filename}\")\n",
        "            continue\n",
        "        pages.extend(loader.load())\n",
        "    return pages\n",
        "\n",
        "folder_path = \"/content/\"\n",
        "pages = load_documents(folder_path)\n",
        "print(f\"Loaded {len(pages)} documents from the folder.\")\n"
      ],
      "metadata": {
        "id": "DXnMV0qZuR-w"
      },
      "execution_count": null,
      "outputs": []
    },
    {
      "cell_type": "code",
      "source": [
        "from langchain_text_splitters import RecursiveCharacterTextSplitter\n",
        "\n",
        "text_splitter = RecursiveCharacterTextSplitter(\n",
        "    # Set a really small chunk size, just to show.\n",
        "    chunk_size=3500,\n",
        "    chunk_overlap=100,\n",
        "    length_function=len,\n",
        "    is_separator_regex=False,\n",
        ")\n",
        "splits = text_splitter.split_documents(pages)\n",
        "print(f\"split the document into  {len(splits)} chunks.\")"
      ],
      "metadata": {
        "id": "gV8UrlqGRgT4"
      },
      "execution_count": null,
      "outputs": []
    },
    {
      "cell_type": "code",
      "source": [
        "from langchain_community.embeddings.sentence_transformer import SentenceTransformerEmbeddings\n",
        "\n",
        "embedding_function = SentenceTransformerEmbeddings(model_name=\"all-MiniLM-L6-v2\")\n",
        "document_embeddings = embedding_function.embed_documents([split.page_content for split in splits])\n",
        "\n",
        "document_embeddings"
      ],
      "metadata": {
        "collapsed": true,
        "id": "ZtDGRK58S67z"
      },
      "execution_count": null,
      "outputs": []
    },
    {
      "cell_type": "markdown",
      "source": [
        "If you get error regarding index, create index manually ( dimensions= 384)\n"
      ],
      "metadata": {
        "id": "Pi5Bnens-9yS"
      }
    },
    {
      "cell_type": "code",
      "source": [
        "pip install langchain-pinecone"
      ],
      "metadata": {
        "id": "KVnF_IO_714O"
      },
      "execution_count": null,
      "outputs": []
    },
    {
      "cell_type": "code",
      "source": [
        "from langchain.vectorstores import Pinecone\n",
        "\n",
        "import os\n",
        "\n",
        "index_name = \"quickstart\"\n",
        "\n",
        "pinecone_api_key = \"pcsk_p2VfD_A5AkS6nRPdgmZwVTgrrfFg1jvtUjdLyA9k783czRBSE1R6aRdBC2ShS9P39iSKh\"\n",
        "\n",
        "os.environ[\"PINECONE_API_KEY\"] = pinecone_api_key\n",
        "\n",
        "from langchain_community.embeddings import HuggingFaceEmbeddings\n",
        "embedding_function = HuggingFaceEmbeddings(model_name=\"all-MiniLM-L6-v2\")\n",
        "\n",
        "from langchain.vectorstores import Pinecone\n",
        "vectordb = Pinecone.from_documents(\n",
        "    documents=splits,\n",
        "    embedding=embedding_function,\n",
        "    index_name=index_name,\n",
        ")\n",
        "\n",
        "print(f\"Data successfully stored in Pinecone under index '{index_name}'!\")"
      ],
      "metadata": {
        "id": "bkanOVHfDMZd"
      },
      "execution_count": null,
      "outputs": []
    },
    {
      "cell_type": "code",
      "source": [
        "import os\n",
        "from langchain.vectorstores import Pinecone\n",
        "from langchain_community.embeddings import HuggingFaceEmbeddings\n",
        "from pinecone import Pinecone, ServerlessSpec\n",
        "\n",
        "# Pinecone API key\n",
        "pinecone_api_key = \"pcsk_p2VfD_A5AkS6nRPdgmZwVTgrrfFg1jvtUjdLyA9k783czRBSE1R6aRdBC2ShS9P39iSKh\"\n",
        "os.environ[\"PINECONE_API_KEY\"] = pinecone_api_key\n",
        "\n",
        "\n",
        "# Initialize Pinecone client\n",
        "pc = Pinecone(api_key=pinecone_api_key)\n",
        "\n",
        "# Define the index name\n",
        "index_name = \"agentindex\"\n",
        "\n",
        "# Check if the index exists\n",
        "if index_name not in pc.list_indexes().names():\n",
        "    print(f\"Index '{index_name}' does not exist. Creating a new index...\")\n",
        "    # Create a new index with the required dimensionality (e.g., 384 for all-MiniLM-L6-v2)\n",
        "    pc.create_index(\n",
        "        name=index_name,\n",
        "        dimension=384,  # Dimension for all-MiniLM-L6-v2 embeddings\n",
        "          # Default metric for similarity search\n",
        "        spec=ServerlessSpec(\n",
        "            cloud=\"aws\",  # Choose your cloud provider\n",
        "            region=\"us-east-1\"  # Choose your region\n",
        "        )\n",
        "    )\n",
        "    print(f\"Index '{index_name}' created successfully!\")\n",
        "else:\n",
        "    print(f\"Index '{index_name}' already exists.\")\n",
        "\n",
        "from langchain_community.embeddings import HuggingFaceEmbeddings\n",
        "embedding_function = HuggingFaceEmbeddings(model_name=\"all-MiniLM-L6-v2\")\n",
        "\n",
        "from langchain.vectorstores import Pinecone\n",
        "vectordb = Pinecone.from_documents(\n",
        "    documents=splits,\n",
        "    embedding=embedding_function,\n",
        "    index_name=index_name,\n",
        ")\n",
        "\n",
        "print(f\"Data successfully stored in Pinecone under index '{index_name}'!\")"
      ],
      "metadata": {
        "id": "spaDdjIqMJe8"
      },
      "execution_count": null,
      "outputs": []
    },
    {
      "cell_type": "code",
      "source": [
        "\n",
        "# from langchain.vectorstores import Pinecone\n",
        "\n",
        "\n",
        "\n",
        "# index_name = \"quickstart\"\n",
        "\n",
        "# pinecone_api_key = userdata.get('PINECONE_API_KEY')\n",
        "\n",
        "# # pc.create_index(\n",
        "# #     name=\"agent\",\n",
        "# #     dimension=384, # Replace with your model dimensions\n",
        "# #     metric=\"cosine\", # Replace with your model metric\n",
        "# #     spec=ServerlessSpec(\n",
        "# #         cloud=\"aws\",\n",
        "# #         region=\"us-east-1\"\n",
        "# #     )\n",
        "# # )\n",
        "\n",
        "# from langchain_community.embeddings import HuggingFaceEmbeddings\n",
        "# embedding_function = HuggingFaceEmbeddings(model_name=\"all-MiniLM-L6-v2\")\n",
        "\n",
        "# from langchain.vectorstores import Pinecone\n",
        "# vectordb = Pinecone.from_documents(\n",
        "#     documents=splits,\n",
        "#     embedding=embedding_function,\n",
        "#     index_name=index_name,\n",
        "# )\n",
        "\n",
        "# print(f\"Data successfully stored in Pinecone under index '{index_name}'!\")"
      ],
      "metadata": {
        "id": "dy5zQZPa6srI",
        "colab": {
          "base_uri": "https://localhost:8080/"
        },
        "outputId": "3c0d1d84-e360-4e46-c246-37155dd28ee5"
      },
      "execution_count": 14,
      "outputs": [
        {
          "output_type": "stream",
          "name": "stdout",
          "text": [
            "Data successfully stored in Pinecone under index 'quickstart'!\n"
          ]
        }
      ]
    },
    {
      "cell_type": "code",
      "source": [
        "# import os\n",
        "# from langchain_anthropic import ChatAnthropic\n",
        "# from langchain.chains import RetrievalQA\n",
        "# from getpass import getpass\n",
        "\n",
        "# anthropic_api_key = userdata.get('ANTHROPIC_API_KEY') or getpass(\"Anthropic API key: \")\n",
        "\n",
        "# llm = ChatAnthropic(\n",
        "#     anthropic_api_key=anthropic_api_key,\n",
        "#     model_name=\"claude-3-sonnet-20240229\",\n",
        "#     temperature=0.0\n",
        "# )\n",
        "\n",
        "# retriever = vectordb.as_retriever()\n",
        "# rag_chain = RetrievalQA.from_chain_type(\n",
        "#     llm=llm,\n",
        "#     retriever=retriever,\n",
        "#     return_source_documents=True\n",
        "# )\n",
        "\n",
        "# print(\"RAG pipeline successfully set up!\")"
      ],
      "metadata": {
        "id": "33csIWARjdWq"
      },
      "execution_count": null,
      "outputs": []
    },
    {
      "cell_type": "code",
      "source": [
        "from transformers import pipeline\n",
        "from langchain.chains import RetrievalQA\n",
        "from langchain.llms import HuggingFacePipeline\n",
        "\n",
        "# Load a free LLM from Hugging Face\n",
        "model_name = \"google/flan-t5-large\"  # You can replace this with any other model\n",
        "llm_pipeline = pipeline(\"text2text-generation\", model=model_name, tokenizer=model_name)\n",
        "\n",
        "# Wrap the pipeline in LangChain's HuggingFacePipeline\n",
        "llm = HuggingFacePipeline(pipeline=llm_pipeline)\n",
        "\n",
        "# Set up the retriever (assuming vectordb is already defined)\n",
        "retriever = vectordb.as_retriever()\n",
        "\n",
        "# Create the RetrievalQA chain\n",
        "rag_chain = RetrievalQA.from_chain_type(\n",
        "    llm=llm,\n",
        "    retriever=retriever,\n",
        "    return_source_documents=True\n",
        ")\n",
        "\n",
        "print(\"RAG pipeline successfully set up with Hugging Face model!\")"
      ],
      "metadata": {
        "id": "ohdchEqMFy0H"
      },
      "execution_count": null,
      "outputs": []
    },
    {
      "cell_type": "code",
      "source": [
        "# User Query\n",
        "query = \"which stock is best to buy for tommorow santoor or dettol?\"\n",
        "# Get Response from RAG System\n",
        "response = rag_chain.invoke({\"query\": query})\n",
        "\n",
        "# Check if response contains a valid answer\n",
        "answer = response.get(\"result\", \"No relevant information found in the knowledge base.\")\n",
        "\n",
        "# Print the answer\n",
        "print(\"Answer:\", answer)\n"
      ],
      "metadata": {
        "colab": {
          "base_uri": "https://localhost:8080/"
        },
        "id": "tY8MUf1mB2rO",
        "outputId": "4f60e908-c41a-4f56-b625-a7a1f3dc420c"
      },
      "execution_count": 74,
      "outputs": [
        {
          "output_type": "stream",
          "name": "stdout",
          "text": [
            "Answer: Santoor\n"
          ]
        }
      ]
    },
    {
      "cell_type": "code",
      "source": [],
      "metadata": {
        "id": "0GbUMlan-XdI"
      },
      "execution_count": 56,
      "outputs": []
    }
  ]
}