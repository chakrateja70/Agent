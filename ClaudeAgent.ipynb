{
  "nbformat": 4,
  "nbformat_minor": 0,
  "metadata": {
    "colab": {
      "provenance": [],
      "authorship_tag": "ABX9TyNCuWBBMWaLysQ+YWf0XCot",
      "include_colab_link": true
    },
    "kernelspec": {
      "name": "python3",
      "display_name": "Python 3"
    },
    "language_info": {
      "name": "python"
    }
  },
  "cells": [
    {
      "cell_type": "markdown",
      "metadata": {
        "id": "view-in-github",
        "colab_type": "text"
      },
      "source": [
        "<a href=\"https://colab.research.google.com/github/chakrateja70/Agent/blob/main/ClaudeAgent.ipynb\" target=\"_parent\"><img src=\"https://colab.research.google.com/assets/colab-badge.svg\" alt=\"Open In Colab\"/></a>"
      ]
    },
    {
      "cell_type": "code",
      "execution_count": null,
      "metadata": {
        "id": "C0OGEwmrmtX4"
      },
      "outputs": [],
      "source": [
        "https://chatgpt.com/c/67a198f6-fd28-800c-9a08-0e0dd41e3ac4"
      ]
    },
    {
      "cell_type": "markdown",
      "source": [],
      "metadata": {
        "id": "3ZtMV66Lmz-G"
      }
    },
    {
      "cell_type": "markdown",
      "source": [
        "# *Required Pacakges*"
      ],
      "metadata": {
        "id": "oHXTGY-_m4oy"
      }
    },
    {
      "cell_type": "code",
      "source": [
        "!pip install langchain pinecone-client anthropic voyageai langchain-voyageai python-dotenv pypdf langchain-community\n"
      ],
      "metadata": {
        "id": "0CkiYOvMm2Q1"
      },
      "execution_count": null,
      "outputs": []
    },
    {
      "cell_type": "code",
      "source": [],
      "metadata": {
        "id": "N_zEMQOtno0m"
      },
      "execution_count": 6,
      "outputs": []
    },
    {
      "cell_type": "code",
      "source": [
        "from langchain.text_splitter import RecursiveCharacterTextSplitter\n",
        "from langchain.document_loaders import PyPDFLoader, TextLoader\n",
        "\n",
        "# Load documents (PDF, TXT, etc.)\n",
        "pdf_loader = PyPDFLoader(\"/content/Visual Search for Jewellery.pdf\")\n",
        "#txt_loader = TextLoader(\"sample.txt\")\n",
        "\n",
        "# Combine all documents\n",
        "documents = pdf_loader.load()\n",
        "\n",
        "# Split into smaller chunks\n",
        "text_splitter = RecursiveCharacterTextSplitter(chunk_size=500, chunk_overlap=50)\n",
        "splits = text_splitter.split_documents(documents)\n",
        "\n",
        "print(f\"Total Chunks Created: {len(splits)}\")\n"
      ],
      "metadata": {
        "colab": {
          "base_uri": "https://localhost:8080/"
        },
        "id": "eBGOvnqDqFrU",
        "outputId": "0b0142a3-577f-482c-f35c-2ebcd2212ace"
      },
      "execution_count": 12,
      "outputs": [
        {
          "output_type": "stream",
          "name": "stdout",
          "text": [
            "Total Chunks Created: 28\n"
          ]
        }
      ]
    },
    {
      "cell_type": "code",
      "source": [],
      "metadata": {
        "id": "rSfQ617RrAoS"
      },
      "execution_count": null,
      "outputs": []
    }
  ]
}